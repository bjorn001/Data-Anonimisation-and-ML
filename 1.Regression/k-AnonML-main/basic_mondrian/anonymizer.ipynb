{
 "cells": [
  {
   "cell_type": "code",
   "execution_count": 5,
   "id": "2de1e2d9",
   "metadata": {},
   "outputs": [],
   "source": [
    "# anonymizer\n",
    "\n",
    "# -*- coding: utf-8 -*-\n",
    "\"\"\"\n",
    "run basic_mondrian with given parameters\n",
    "\"\"\"\n",
    "import copy\n",
    "import sys\n",
    "import os\n",
    "\n",
    "from mondrian import mondrian\n",
    "\n",
    "sys.path.insert(1, os.path.join(sys.path[0], '..'))\n",
    "from utils.data import reorder_columns, restore_column_order\n",
    "\n",
    "\n",
    "DATA_SELECT = 'a'\n",
    "DEFAULT_K = 10\n",
    "\n",
    "\n",
    "def extend_result(val):\n",
    "    \"\"\"\n",
    "    separated with ',' if it is a list\n",
    "    \"\"\"\n",
    "    if isinstance(val, list):\n",
    "        return ','.join(val)\n",
    "    return val\n",
    "\n",
    "\n",
    "def get_result_one(att_trees, data, k, path, qi_index, SA_index):\n",
    "    \"run basic_mondrian for one time, with k=10\"\n",
    "    print(\"K=%d\" % k)\n",
    "    print(\"Mondrian\")\n",
    "    result, eval_result = mondrian(att_trees, reorder_columns(\n",
    "        copy.deepcopy(data), qi_index), k, len(qi_index), SA_index)\n",
    "    print(\"NCP %0.2f\" % eval_result[0] + \"%\")\n",
    "    print(\"Running time %0.2f\" % eval_result[1] + \"seconds\")\n",
    "    return restore_column_order(result, qi_index)\n"
   ]
  },
  {
   "cell_type": "code",
   "execution_count": null,
   "id": "270732d4",
   "metadata": {},
   "outputs": [],
   "source": []
  }
 ],
 "metadata": {
  "kernelspec": {
   "display_name": "Python 3 (ipykernel)",
   "language": "python",
   "name": "python3"
  },
  "language_info": {
   "codemirror_mode": {
    "name": "ipython",
    "version": 3
   },
   "file_extension": ".py",
   "mimetype": "text/x-python",
   "name": "python",
   "nbconvert_exporter": "python",
   "pygments_lexer": "ipython3",
   "version": "3.10.2"
  }
 },
 "nbformat": 4,
 "nbformat_minor": 5
}
